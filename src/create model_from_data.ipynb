{
 "cells": [
  {
   "cell_type": "code",
   "execution_count": 1,
   "metadata": {},
   "outputs": [
    {
     "name": "stdout",
     "output_type": "stream",
     "text": [
      "Ign:1 http://deb.debian.org/debian stretch InRelease\n",
      "Get:2 http://deb.debian.org/debian stretch-updates InRelease [93.6 kB]\n",
      "Get:3 http://security.debian.org/debian-security stretch/updates InRelease [53.0 kB]\n",
      "Hit:4 http://deb.debian.org/debian stretch Release                             \n",
      "Get:6 http://security.debian.org/debian-security stretch/updates/main amd64 Packages [657 kB]\n",
      "Fetched 804 kB in 0s (1194 kB/s) \n",
      "Reading package lists... Done\n",
      "Reading package lists... Done\n",
      "Building dependency tree       \n",
      "Reading state information... Done\n",
      "g++ is already the newest version (4:6.3.0-4).\n",
      "gcc is already the newest version (4:6.3.0-4).\n",
      "0 upgraded, 0 newly installed, 0 to remove and 60 not upgraded.\n",
      "Requirement already satisfied: shap==0.37.0 in /opt/conda/lib/python3.7/site-packages (0.37.0)\n",
      "Requirement already satisfied: slicer==0.0.3 in /opt/conda/lib/python3.7/site-packages (0.0.3)\n",
      "Requirement already satisfied: xgboost==1.3.0.post0 in /opt/conda/lib/python3.7/site-packages (1.3.0.post0)\n",
      "Requirement already satisfied: numpy in /opt/conda/lib/python3.7/site-packages (from shap==0.37.0) (1.16.2)\n",
      "Requirement already satisfied: scipy in /opt/conda/lib/python3.7/site-packages (from shap==0.37.0) (1.2.1)\n",
      "Requirement already satisfied: tqdm>4.25.0 in /opt/conda/lib/python3.7/site-packages (from shap==0.37.0) (4.31.1)\n",
      "Requirement already satisfied: numba in /opt/conda/lib/python3.7/site-packages (from shap==0.37.0) (0.43.1)\n",
      "Requirement already satisfied: scikit-learn in /opt/conda/lib/python3.7/site-packages (from shap==0.37.0) (0.20.3)\n",
      "Requirement already satisfied: pandas in /opt/conda/lib/python3.7/site-packages (from shap==0.37.0) (0.24.2)\n",
      "Requirement already satisfied: llvmlite>=0.28.0dev0 in /opt/conda/lib/python3.7/site-packages (from numba->shap==0.37.0) (0.28.0)\n",
      "Requirement already satisfied: pytz>=2011k in /opt/conda/lib/python3.7/site-packages (from pandas->shap==0.37.0) (2018.9)\n",
      "Requirement already satisfied: python-dateutil>=2.5.0 in /opt/conda/lib/python3.7/site-packages (from pandas->shap==0.37.0) (2.8.0)\n",
      "Requirement already satisfied: six>=1.5 in /opt/conda/lib/python3.7/site-packages (from python-dateutil>=2.5.0->pandas->shap==0.37.0) (1.12.0)\n"
     ]
    }
   ],
   "source": [
    "# shap用にg++とgccをインストールします\n",
    "! apt-get update\n",
    "! apt-get install -y --no-install-recommends g++ gcc\n",
    "\n",
    "# 必要なライブラリをインストールします\n",
    "! pip install shap==0.37.0 slicer==0.0.3 xgboost==1.3.0.post0"
   ]
  },
  {
   "cell_type": "code",
   "execution_count": 2,
   "metadata": {},
   "outputs": [
    {
     "name": "stdout",
     "output_type": "stream",
     "text": [
      "Collecting catboost==0.24.4\n",
      "\u001b[?25l  Downloading https://files.pythonhosted.org/packages/96/3b/bb419654adcf7efff42ed8a3f84e50c8f236424b7ed1cc8ccd290852e003/catboost-0.24.4-cp37-none-manylinux1_x86_64.whl (65.7MB)\n",
      "\u001b[K    100% |████████████████████████████████| 65.7MB 508kB/s eta 0:00:01    31% |██████████                      | 20.6MB 8.4MB/s eta 0:00:06    45% |██████████████▋                 | 30.0MB 15.8MB/s eta 0:00:03    46% |██████████████▉                 | 30.6MB 9.7MB/s eta 0:00:04    48% |███████████████▌                | 31.8MB 10.6MB/s eta 0:00:04    55% |█████████████████▊              | 36.5MB 11.9MB/s eta 0:00:03    58% |██████████████████▋             | 38.2MB 13.1MB/s eta 0:00:03    62% |████████████████████            | 41.1MB 9.3MB/s eta 0:00:03    63% |████████████████████▎           | 41.7MB 11.3MB/s eta 0:00:03    66% |█████████████████████▏          | 43.5MB 10.8MB/s eta 0:00:03    67% |█████████████████████▊          | 44.6MB 11.3MB/s eta 0:00:02    80% |██████████████████████████      | 53.2MB 10.0MB/s eta 0:00:02    97% |███████████████████████████████▎| 64.3MB 8.8MB/s eta 0:00:01\n",
      "\u001b[?25hRequirement already satisfied: matplotlib in /opt/conda/lib/python3.7/site-packages (from catboost==0.24.4) (3.0.3)\n",
      "Requirement already satisfied: six in /opt/conda/lib/python3.7/site-packages (from catboost==0.24.4) (1.12.0)\n",
      "Requirement already satisfied: numpy>=1.16.0 in /opt/conda/lib/python3.7/site-packages (from catboost==0.24.4) (1.16.2)\n",
      "Requirement already satisfied: pandas>=0.24.0 in /opt/conda/lib/python3.7/site-packages (from catboost==0.24.4) (0.24.2)\n",
      "Requirement already satisfied: scipy in /opt/conda/lib/python3.7/site-packages (from catboost==0.24.4) (1.2.1)\n",
      "Collecting graphviz (from catboost==0.24.4)\n",
      "  Downloading https://files.pythonhosted.org/packages/86/86/89ba50ba65928001d3161f23bfa03945ed18ea13a1d1d44a772ff1fa4e7a/graphviz-0.16-py2.py3-none-any.whl\n",
      "Collecting plotly (from catboost==0.24.4)\n",
      "\u001b[?25l  Downloading https://files.pythonhosted.org/packages/1f/f6/bd3c17c8003b6641df1228e80e1acac97ed8402635e46c2571f8e1ef63af/plotly-4.14.3-py2.py3-none-any.whl (13.2MB)\n",
      "\u001b[K    100% |████████████████████████████████| 13.2MB 3.1MB/s eta 0:00:01   29% |█████████▍                      | 3.9MB 15.8MB/s eta 0:00:01\n",
      "\u001b[?25hRequirement already satisfied: cycler>=0.10 in /opt/conda/lib/python3.7/site-packages (from matplotlib->catboost==0.24.4) (0.10.0)\n",
      "Requirement already satisfied: kiwisolver>=1.0.1 in /opt/conda/lib/python3.7/site-packages (from matplotlib->catboost==0.24.4) (1.0.1)\n",
      "Requirement already satisfied: pyparsing!=2.0.4,!=2.1.2,!=2.1.6,>=2.0.1 in /opt/conda/lib/python3.7/site-packages (from matplotlib->catboost==0.24.4) (2.3.1)\n",
      "Requirement already satisfied: python-dateutil>=2.1 in /opt/conda/lib/python3.7/site-packages (from matplotlib->catboost==0.24.4) (2.8.0)\n",
      "Requirement already satisfied: pytz>=2011k in /opt/conda/lib/python3.7/site-packages (from pandas>=0.24.0->catboost==0.24.4) (2018.9)\n",
      "Collecting retrying>=1.3.3 (from plotly->catboost==0.24.4)\n",
      "  Downloading https://files.pythonhosted.org/packages/44/ef/beae4b4ef80902f22e3af073397f079c96969c69b2c7d52a57ea9ae61c9d/retrying-1.3.3.tar.gz\n",
      "Requirement already satisfied: setuptools in /opt/conda/lib/python3.7/site-packages (from kiwisolver>=1.0.1->matplotlib->catboost==0.24.4) (40.8.0)\n",
      "Building wheels for collected packages: retrying\n",
      "  Building wheel for retrying (setup.py) ... \u001b[?25ldone\n",
      "\u001b[?25h  Stored in directory: /root/.cache/pip/wheels/d7/a9/33/acc7b709e2a35caa7d4cae442f6fe6fbf2c43f80823d46460c\n",
      "Successfully built retrying\n",
      "Installing collected packages: graphviz, retrying, plotly, catboost\n",
      "Successfully installed catboost-0.24.4 graphviz-0.16 plotly-4.14.3 retrying-1.3.3\n"
     ]
    }
   ],
   "source": [
    "!pip install catboost==0.24.4"
   ]
  },
  {
   "cell_type": "code",
   "execution_count": 3,
   "metadata": {},
   "outputs": [],
   "source": [
    "from predictor_create_model import ScoringService as cls"
   ]
  },
  {
   "cell_type": "code",
   "execution_count": 4,
   "metadata": {},
   "outputs": [],
   "source": [
    "# データセットをダウンロードして解凍したファイルを配置した場所を定義します。\n",
    "# データ保存先ディレクトリ\n",
    "DATASET_DIR= \"/path/to\""
   ]
  },
  {
   "cell_type": "code",
   "execution_count": 5,
   "metadata": {},
   "outputs": [],
   "source": [
    "# 読み込むファイルを定義します。\n",
    "inputs = cls.get_inputs(DATASET_DIR)"
   ]
  },
  {
   "cell_type": "code",
   "execution_count": 6,
   "metadata": {},
   "outputs": [
    {
     "data": {
      "text/plain": [
       "{'stock_list': '/path/to/stock_list.csv.gz',\n",
       " 'stock_price': '/path/to/stock_price.csv.gz',\n",
       " 'stock_fin': '/path/to/stock_fin.csv.gz',\n",
       " 'stock_labels': '/path/to/stock_labels.csv.gz'}"
      ]
     },
     "execution_count": 6,
     "metadata": {},
     "output_type": "execute_result"
    }
   ],
   "source": [
    "inputs"
   ]
  },
  {
   "cell_type": "code",
   "execution_count": 7,
   "metadata": {
    "scrolled": true
   },
   "outputs": [
    {
     "name": "stdout",
     "output_type": "stream",
     "text": [
      "label_high_20\n",
      "CatBoost return from data\n",
      "read_data\n",
      "start fit\n",
      "label_high_20\n",
      "0:\tlearn: 0.1799171\ttotal: 85.4ms\tremaining: 4.18s\n",
      "1:\tlearn: 0.1790259\ttotal: 104ms\tremaining: 2.48s\n",
      "2:\tlearn: 0.1784864\ttotal: 119ms\tremaining: 1.86s\n",
      "3:\tlearn: 0.1781155\ttotal: 136ms\tremaining: 1.56s\n",
      "4:\tlearn: 0.1775405\ttotal: 168ms\tremaining: 1.51s\n",
      "5:\tlearn: 0.1771956\ttotal: 281ms\tremaining: 2.06s\n",
      "6:\tlearn: 0.1767889\ttotal: 304ms\tremaining: 1.86s\n",
      "7:\tlearn: 0.1764053\ttotal: 507ms\tremaining: 2.66s\n",
      "8:\tlearn: 0.1760074\ttotal: 695ms\tremaining: 3.17s\n",
      "9:\tlearn: 0.1756363\ttotal: 731ms\tremaining: 2.92s\n",
      "10:\tlearn: 0.1754473\ttotal: 791ms\tremaining: 2.8s\n",
      "11:\tlearn: 0.1752773\ttotal: 832ms\tremaining: 2.63s\n",
      "12:\tlearn: 0.1749165\ttotal: 860ms\tremaining: 2.45s\n",
      "13:\tlearn: 0.1747937\ttotal: 885ms\tremaining: 2.28s\n",
      "14:\tlearn: 0.1746572\ttotal: 904ms\tremaining: 2.11s\n",
      "15:\tlearn: 0.1746004\ttotal: 925ms\tremaining: 1.96s\n",
      "16:\tlearn: 0.1743356\ttotal: 942ms\tremaining: 1.83s\n",
      "17:\tlearn: 0.1742687\ttotal: 959ms\tremaining: 1.7s\n",
      "18:\tlearn: 0.1738583\ttotal: 978ms\tremaining: 1.59s\n",
      "19:\tlearn: 0.1735637\ttotal: 999ms\tremaining: 1.5s\n",
      "20:\tlearn: 0.1734875\ttotal: 1.02s\tremaining: 1.4s\n",
      "21:\tlearn: 0.1733550\ttotal: 1.03s\tremaining: 1.32s\n",
      "22:\tlearn: 0.1732338\ttotal: 1.05s\tremaining: 1.23s\n",
      "23:\tlearn: 0.1731111\ttotal: 1.06s\tremaining: 1.15s\n",
      "24:\tlearn: 0.1729755\ttotal: 1.08s\tremaining: 1.08s\n",
      "25:\tlearn: 0.1729074\ttotal: 1.1s\tremaining: 1.01s\n",
      "26:\tlearn: 0.1727956\ttotal: 1.11s\tremaining: 947ms\n",
      "27:\tlearn: 0.1727195\ttotal: 1.13s\tremaining: 885ms\n",
      "28:\tlearn: 0.1726667\ttotal: 1.14s\tremaining: 828ms\n",
      "29:\tlearn: 0.1725985\ttotal: 1.16s\tremaining: 775ms\n",
      "30:\tlearn: 0.1725381\ttotal: 1.18s\tremaining: 722ms\n",
      "31:\tlearn: 0.1724632\ttotal: 1.19s\tremaining: 671ms\n",
      "32:\tlearn: 0.1723144\ttotal: 1.2s\tremaining: 620ms\n",
      "33:\tlearn: 0.1722825\ttotal: 1.21s\tremaining: 571ms\n",
      "34:\tlearn: 0.1722293\ttotal: 1.22s\tremaining: 524ms\n",
      "35:\tlearn: 0.1721291\ttotal: 1.23s\tremaining: 480ms\n",
      "36:\tlearn: 0.1720289\ttotal: 1.24s\tremaining: 437ms\n",
      "37:\tlearn: 0.1718544\ttotal: 1.25s\tremaining: 396ms\n",
      "38:\tlearn: 0.1718119\ttotal: 1.26s\tremaining: 357ms\n",
      "39:\tlearn: 0.1714870\ttotal: 1.27s\tremaining: 319ms\n",
      "40:\tlearn: 0.1713372\ttotal: 1.29s\tremaining: 283ms\n",
      "41:\tlearn: 0.1712655\ttotal: 1.3s\tremaining: 247ms\n",
      "42:\tlearn: 0.1710773\ttotal: 1.31s\tremaining: 213ms\n",
      "43:\tlearn: 0.1710580\ttotal: 1.32s\tremaining: 180ms\n",
      "44:\tlearn: 0.1709917\ttotal: 1.33s\tremaining: 148ms\n",
      "45:\tlearn: 0.1708587\ttotal: 1.34s\tremaining: 117ms\n",
      "46:\tlearn: 0.1705368\ttotal: 1.35s\tremaining: 86.5ms\n",
      "47:\tlearn: 0.1705048\ttotal: 1.36s\tremaining: 56.7ms\n",
      "48:\tlearn: 0.1702511\ttotal: 1.37s\tremaining: 28ms\n",
      "49:\tlearn: 0.1700314\ttotal: 1.38s\tremaining: 0us\n",
      "label_low_20\n",
      "CatBoost return from data\n",
      "read_data\n",
      "start fit\n",
      "label_low_20\n",
      "0:\tlearn: 0.0747108\ttotal: 12.6ms\tremaining: 1.24s\n",
      "1:\tlearn: 0.0737721\ttotal: 22.1ms\tremaining: 1.08s\n",
      "2:\tlearn: 0.0729751\ttotal: 33.4ms\tremaining: 1.08s\n",
      "3:\tlearn: 0.0725129\ttotal: 43.6ms\tremaining: 1.05s\n",
      "4:\tlearn: 0.0721090\ttotal: 55.5ms\tremaining: 1.05s\n",
      "5:\tlearn: 0.0717857\ttotal: 66.5ms\tremaining: 1.04s\n",
      "6:\tlearn: 0.0714823\ttotal: 76.7ms\tremaining: 1.02s\n",
      "7:\tlearn: 0.0713662\ttotal: 85.9ms\tremaining: 988ms\n",
      "8:\tlearn: 0.0711733\ttotal: 94.7ms\tremaining: 957ms\n",
      "9:\tlearn: 0.0710167\ttotal: 102ms\tremaining: 916ms\n",
      "10:\tlearn: 0.0708553\ttotal: 108ms\tremaining: 874ms\n",
      "11:\tlearn: 0.0706293\ttotal: 114ms\tremaining: 839ms\n",
      "12:\tlearn: 0.0704844\ttotal: 120ms\tremaining: 803ms\n",
      "13:\tlearn: 0.0704501\ttotal: 126ms\tremaining: 773ms\n",
      "14:\tlearn: 0.0703712\ttotal: 132ms\tremaining: 746ms\n",
      "15:\tlearn: 0.0703015\ttotal: 137ms\tremaining: 721ms\n",
      "16:\tlearn: 0.0702513\ttotal: 143ms\tremaining: 697ms\n",
      "17:\tlearn: 0.0702083\ttotal: 148ms\tremaining: 676ms\n",
      "18:\tlearn: 0.0701510\ttotal: 155ms\tremaining: 660ms\n",
      "19:\tlearn: 0.0700885\ttotal: 164ms\tremaining: 656ms\n",
      "20:\tlearn: 0.0700573\ttotal: 172ms\tremaining: 649ms\n",
      "21:\tlearn: 0.0700203\ttotal: 180ms\tremaining: 640ms\n",
      "22:\tlearn: 0.0699900\ttotal: 187ms\tremaining: 625ms\n",
      "23:\tlearn: 0.0699689\ttotal: 192ms\tremaining: 609ms\n",
      "24:\tlearn: 0.0699303\ttotal: 197ms\tremaining: 592ms\n",
      "25:\tlearn: 0.0699010\ttotal: 203ms\tremaining: 578ms\n",
      "26:\tlearn: 0.0698852\ttotal: 209ms\tremaining: 565ms\n",
      "27:\tlearn: 0.0698499\ttotal: 214ms\tremaining: 551ms\n",
      "28:\tlearn: 0.0698342\ttotal: 220ms\tremaining: 538ms\n",
      "29:\tlearn: 0.0698200\ttotal: 225ms\tremaining: 526ms\n",
      "30:\tlearn: 0.0697955\ttotal: 231ms\tremaining: 514ms\n",
      "31:\tlearn: 0.0697770\ttotal: 236ms\tremaining: 502ms\n",
      "32:\tlearn: 0.0697499\ttotal: 242ms\tremaining: 490ms\n",
      "33:\tlearn: 0.0697400\ttotal: 247ms\tremaining: 479ms\n",
      "34:\tlearn: 0.0697152\ttotal: 253ms\tremaining: 469ms\n",
      "35:\tlearn: 0.0696967\ttotal: 259ms\tremaining: 461ms\n",
      "36:\tlearn: 0.0696742\ttotal: 264ms\tremaining: 450ms\n",
      "37:\tlearn: 0.0696456\ttotal: 270ms\tremaining: 440ms\n",
      "38:\tlearn: 0.0696286\ttotal: 275ms\tremaining: 431ms\n",
      "39:\tlearn: 0.0696136\ttotal: 280ms\tremaining: 420ms\n",
      "40:\tlearn: 0.0695763\ttotal: 286ms\tremaining: 411ms\n",
      "41:\tlearn: 0.0695651\ttotal: 292ms\tremaining: 403ms\n",
      "42:\tlearn: 0.0695467\ttotal: 297ms\tremaining: 394ms\n",
      "43:\tlearn: 0.0695294\ttotal: 303ms\tremaining: 386ms\n",
      "44:\tlearn: 0.0695037\ttotal: 308ms\tremaining: 377ms\n",
      "45:\tlearn: 0.0694866\ttotal: 315ms\tremaining: 370ms\n",
      "46:\tlearn: 0.0694672\ttotal: 321ms\tremaining: 362ms\n",
      "47:\tlearn: 0.0694507\ttotal: 326ms\tremaining: 353ms\n",
      "48:\tlearn: 0.0694415\ttotal: 332ms\tremaining: 345ms\n",
      "49:\tlearn: 0.0694283\ttotal: 337ms\tremaining: 337ms\n",
      "50:\tlearn: 0.0694108\ttotal: 343ms\tremaining: 329ms\n",
      "51:\tlearn: 0.0693935\ttotal: 348ms\tremaining: 321ms\n",
      "52:\tlearn: 0.0693802\ttotal: 352ms\tremaining: 313ms\n",
      "53:\tlearn: 0.0693610\ttotal: 358ms\tremaining: 305ms\n",
      "54:\tlearn: 0.0693490\ttotal: 363ms\tremaining: 297ms\n",
      "55:\tlearn: 0.0693381\ttotal: 368ms\tremaining: 289ms\n",
      "56:\tlearn: 0.0693243\ttotal: 374ms\tremaining: 282ms\n",
      "57:\tlearn: 0.0693124\ttotal: 379ms\tremaining: 275ms\n",
      "58:\tlearn: 0.0692807\ttotal: 385ms\tremaining: 267ms\n",
      "59:\tlearn: 0.0692595\ttotal: 390ms\tremaining: 260ms\n",
      "60:\tlearn: 0.0692395\ttotal: 395ms\tremaining: 253ms\n",
      "61:\tlearn: 0.0692279\ttotal: 400ms\tremaining: 245ms\n",
      "62:\tlearn: 0.0691927\ttotal: 407ms\tremaining: 239ms\n",
      "63:\tlearn: 0.0691768\ttotal: 413ms\tremaining: 232ms\n",
      "64:\tlearn: 0.0691562\ttotal: 420ms\tremaining: 226ms\n",
      "65:\tlearn: 0.0691282\ttotal: 425ms\tremaining: 219ms\n",
      "66:\tlearn: 0.0690883\ttotal: 431ms\tremaining: 212ms\n",
      "67:\tlearn: 0.0690648\ttotal: 436ms\tremaining: 205ms\n",
      "68:\tlearn: 0.0690306\ttotal: 441ms\tremaining: 198ms\n",
      "69:\tlearn: 0.0689800\ttotal: 447ms\tremaining: 191ms\n",
      "70:\tlearn: 0.0689323\ttotal: 451ms\tremaining: 184ms\n",
      "71:\tlearn: 0.0688912\ttotal: 457ms\tremaining: 178ms\n",
      "72:\tlearn: 0.0688669\ttotal: 462ms\tremaining: 171ms\n",
      "73:\tlearn: 0.0688451\ttotal: 467ms\tremaining: 164ms\n",
      "74:\tlearn: 0.0688118\ttotal: 472ms\tremaining: 157ms\n",
      "75:\tlearn: 0.0687773\ttotal: 477ms\tremaining: 151ms\n",
      "76:\tlearn: 0.0687464\ttotal: 482ms\tremaining: 144ms\n",
      "77:\tlearn: 0.0686951\ttotal: 488ms\tremaining: 138ms\n",
      "78:\tlearn: 0.0686600\ttotal: 494ms\tremaining: 131ms\n",
      "79:\tlearn: 0.0686294\ttotal: 500ms\tremaining: 125ms\n",
      "80:\tlearn: 0.0685949\ttotal: 505ms\tremaining: 119ms\n",
      "81:\tlearn: 0.0685657\ttotal: 511ms\tremaining: 112ms\n",
      "82:\tlearn: 0.0685405\ttotal: 517ms\tremaining: 106ms\n",
      "83:\tlearn: 0.0685099\ttotal: 522ms\tremaining: 99.5ms\n",
      "84:\tlearn: 0.0684846\ttotal: 527ms\tremaining: 93ms\n",
      "85:\tlearn: 0.0684525\ttotal: 533ms\tremaining: 86.8ms\n",
      "86:\tlearn: 0.0684292\ttotal: 538ms\tremaining: 80.5ms\n",
      "87:\tlearn: 0.0683931\ttotal: 544ms\tremaining: 74.1ms\n",
      "88:\tlearn: 0.0683632\ttotal: 549ms\tremaining: 67.8ms\n",
      "89:\tlearn: 0.0683364\ttotal: 554ms\tremaining: 61.5ms\n",
      "90:\tlearn: 0.0683134\ttotal: 559ms\tremaining: 55.3ms\n",
      "91:\tlearn: 0.0682777\ttotal: 565ms\tremaining: 49.1ms\n",
      "92:\tlearn: 0.0682459\ttotal: 572ms\tremaining: 43ms\n",
      "93:\tlearn: 0.0682197\ttotal: 578ms\tremaining: 36.9ms\n",
      "94:\tlearn: 0.0682025\ttotal: 584ms\tremaining: 30.7ms\n",
      "95:\tlearn: 0.0681772\ttotal: 589ms\tremaining: 24.5ms\n",
      "96:\tlearn: 0.0681466\ttotal: 595ms\tremaining: 18.4ms\n",
      "97:\tlearn: 0.0681212\ttotal: 600ms\tremaining: 12.3ms\n",
      "98:\tlearn: 0.0681026\ttotal: 605ms\tremaining: 6.12ms\n",
      "99:\tlearn: 0.0680809\ttotal: 610ms\tremaining: 0us\n"
     ]
    }
   ],
   "source": [
    "cls.train_and_save_model(inputs, model_path=\"../model\")"
   ]
  },
  {
   "cell_type": "code",
   "execution_count": 6,
   "metadata": {},
   "outputs": [
    {
     "ename": "TypeError",
     "evalue": "'NoneType' object is not subscriptable",
     "output_type": "error",
     "traceback": [
      "\u001b[0;31m---------------------------------------------------------------------------\u001b[0m",
      "\u001b[0;31mTypeError\u001b[0m                                 Traceback (most recent call last)",
      "\u001b[0;32m<ipython-input-6-673351b28e5e>\u001b[0m in \u001b[0;36m<module>\u001b[0;34m\u001b[0m\n\u001b[0;32m----> 1\u001b[0;31m \u001b[0mret\u001b[0m \u001b[0;34m=\u001b[0m \u001b[0mcls\u001b[0m\u001b[0;34m.\u001b[0m\u001b[0mpredict\u001b[0m\u001b[0;34m(\u001b[0m\u001b[0minputs\u001b[0m\u001b[0;34m)\u001b[0m\u001b[0;34m\u001b[0m\u001b[0;34m\u001b[0m\u001b[0m\n\u001b[0m",
      "\u001b[0;32m/notebook/stock/archive/src/predictor_create_model.py\u001b[0m in \u001b[0;36mpredict\u001b[0;34m(cls, inputs, labels, codes, start_dt)\u001b[0m\n\u001b[1;32m    647\u001b[0m         \u001b[0;32mfor\u001b[0m \u001b[0mlabel\u001b[0m \u001b[0;32min\u001b[0m \u001b[0mlabels\u001b[0m\u001b[0;34m:\u001b[0m\u001b[0;34m\u001b[0m\u001b[0;34m\u001b[0m\u001b[0m\n\u001b[1;32m    648\u001b[0m             \u001b[0;31m# 予測実施\u001b[0m\u001b[0;34m\u001b[0m\u001b[0;34m\u001b[0m\u001b[0;34m\u001b[0m\u001b[0m\n\u001b[0;32m--> 649\u001b[0;31m             \u001b[0mdf\u001b[0m\u001b[0;34m[\u001b[0m\u001b[0mlabel\u001b[0m\u001b[0;34m]\u001b[0m \u001b[0;34m=\u001b[0m \u001b[0mcls\u001b[0m\u001b[0;34m.\u001b[0m\u001b[0mmodels\u001b[0m\u001b[0;34m[\u001b[0m\u001b[0mlabel\u001b[0m\u001b[0;34m]\u001b[0m\u001b[0;34m.\u001b[0m\u001b[0mpredict\u001b[0m\u001b[0;34m(\u001b[0m\u001b[0mfeats\u001b[0m\u001b[0;34m[\u001b[0m\u001b[0mfeature_columns\u001b[0m\u001b[0;34m]\u001b[0m\u001b[0;34m.\u001b[0m\u001b[0mvalues\u001b[0m\u001b[0;34m)\u001b[0m\u001b[0;34m\u001b[0m\u001b[0;34m\u001b[0m\u001b[0m\n\u001b[0m\u001b[1;32m    650\u001b[0m             \u001b[0;31m# 出力対象列に追加\u001b[0m\u001b[0;34m\u001b[0m\u001b[0;34m\u001b[0m\u001b[0;34m\u001b[0m\u001b[0m\n\u001b[1;32m    651\u001b[0m             \u001b[0moutput_columns\u001b[0m\u001b[0;34m.\u001b[0m\u001b[0mappend\u001b[0m\u001b[0;34m(\u001b[0m\u001b[0mlabel\u001b[0m\u001b[0;34m)\u001b[0m\u001b[0;34m\u001b[0m\u001b[0;34m\u001b[0m\u001b[0m\n",
      "\u001b[0;31mTypeError\u001b[0m: 'NoneType' object is not subscriptable"
     ]
    }
   ],
   "source": [
    "ret = cls.predict(inputs)"
   ]
  },
  {
   "cell_type": "code",
   "execution_count": null,
   "metadata": {},
   "outputs": [],
   "source": [
    "ret"
   ]
  },
  {
   "cell_type": "code",
   "execution_count": null,
   "metadata": {},
   "outputs": [],
   "source": [
    "cls.models[label_high_20].predict"
   ]
  }
 ],
 "metadata": {
  "kernelspec": {
   "display_name": "Python 3",
   "language": "python",
   "name": "python3"
  },
  "language_info": {
   "codemirror_mode": {
    "name": "ipython",
    "version": 3
   },
   "file_extension": ".py",
   "mimetype": "text/x-python",
   "name": "python",
   "nbconvert_exporter": "python",
   "pygments_lexer": "ipython3",
   "version": "3.7.3"
  }
 },
 "nbformat": 4,
 "nbformat_minor": 2
}
