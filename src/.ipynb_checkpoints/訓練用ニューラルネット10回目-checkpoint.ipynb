{
 "cells": [
  {
   "cell_type": "markdown",
   "metadata": {},
   "source": [
    "# Imports & Load Data\n",
    "作業に必要なライブラリをインポートして、 以下のデータを読み込みます。\n",
    "\n",
    "* stock_price : 株価情報\n",
    "* stock_list : 銘柄情報\n",
    "* stock_fin : 財務諸表\n",
    "* stock_labels : 目的変数"
   ]
  },
  {
   "cell_type": "code",
   "execution_count": 1,
   "metadata": {},
   "outputs": [
    {
     "name": "stdout",
     "output_type": "stream",
     "text": [
      "Requirement already satisfied: keras in /opt/conda/lib/python3.7/site-packages (2.4.3)\n",
      "Requirement already satisfied: pyyaml in /opt/conda/lib/python3.7/site-packages (from keras) (5.1)\n",
      "Requirement already satisfied: h5py in /opt/conda/lib/python3.7/site-packages (from keras) (2.10.0)\n",
      "Requirement already satisfied: scipy>=0.14 in /opt/conda/lib/python3.7/site-packages (from keras) (1.4.1)\n",
      "Requirement already satisfied: numpy>=1.9.1 in /opt/conda/lib/python3.7/site-packages (from keras) (1.16.2)\n",
      "Requirement already satisfied: six in /opt/conda/lib/python3.7/site-packages (from h5py->keras) (1.12.0)\n",
      "Requirement already satisfied: tensorflow in /opt/conda/lib/python3.7/site-packages (2.3.0)\n",
      "Requirement already satisfied: scipy==1.4.1 in /opt/conda/lib/python3.7/site-packages (from tensorflow) (1.4.1)\n",
      "Requirement already satisfied: wheel>=0.26 in /opt/conda/lib/python3.7/site-packages (from tensorflow) (0.33.1)\n",
      "Requirement already satisfied: h5py<2.11.0,>=2.10.0 in /opt/conda/lib/python3.7/site-packages (from tensorflow) (2.10.0)\n",
      "Requirement already satisfied: absl-py>=0.7.0 in /opt/conda/lib/python3.7/site-packages (from tensorflow) (0.12.0)\n",
      "Requirement already satisfied: grpcio>=1.8.6 in /opt/conda/lib/python3.7/site-packages (from tensorflow) (1.36.1)\n",
      "Requirement already satisfied: six>=1.12.0 in /opt/conda/lib/python3.7/site-packages (from tensorflow) (1.12.0)\n",
      "Requirement already satisfied: tensorboard<3,>=2.3.0 in /opt/conda/lib/python3.7/site-packages (from tensorflow) (2.4.1)\n",
      "Requirement already satisfied: protobuf>=3.9.2 in /opt/conda/lib/python3.7/site-packages (from tensorflow) (3.15.6)\n",
      "Requirement already satisfied: google-pasta>=0.1.8 in /opt/conda/lib/python3.7/site-packages (from tensorflow) (0.2.0)\n",
      "Requirement already satisfied: gast==0.3.3 in /opt/conda/lib/python3.7/site-packages (from tensorflow) (0.3.3)\n",
      "Requirement already satisfied: opt-einsum>=2.3.2 in /opt/conda/lib/python3.7/site-packages (from tensorflow) (3.3.0)\n",
      "Requirement already satisfied: astunparse==1.6.3 in /opt/conda/lib/python3.7/site-packages (from tensorflow) (1.6.3)\n",
      "Requirement already satisfied: tensorflow-estimator<2.4.0,>=2.3.0 in /opt/conda/lib/python3.7/site-packages (from tensorflow) (2.3.0)\n",
      "Requirement already satisfied: keras-preprocessing<1.2,>=1.1.1 in /opt/conda/lib/python3.7/site-packages (from tensorflow) (1.1.2)\n",
      "Requirement already satisfied: wrapt>=1.11.1 in /opt/conda/lib/python3.7/site-packages (from tensorflow) (1.11.1)\n",
      "Requirement already satisfied: termcolor>=1.1.0 in /opt/conda/lib/python3.7/site-packages (from tensorflow) (1.1.0)\n",
      "Requirement already satisfied: numpy<1.19.0,>=1.16.0 in /opt/conda/lib/python3.7/site-packages (from tensorflow) (1.16.2)\n",
      "Requirement already satisfied: tensorboard-plugin-wit>=1.6.0 in /opt/conda/lib/python3.7/site-packages (from tensorboard<3,>=2.3.0->tensorflow) (1.8.0)\n",
      "Requirement already satisfied: werkzeug>=0.11.15 in /opt/conda/lib/python3.7/site-packages (from tensorboard<3,>=2.3.0->tensorflow) (0.14.1)\n",
      "Requirement already satisfied: requests<3,>=2.21.0 in /opt/conda/lib/python3.7/site-packages (from tensorboard<3,>=2.3.0->tensorflow) (2.21.0)\n",
      "Requirement already satisfied: google-auth-oauthlib<0.5,>=0.4.1 in /opt/conda/lib/python3.7/site-packages (from tensorboard<3,>=2.3.0->tensorflow) (0.4.3)\n",
      "Requirement already satisfied: setuptools>=41.0.0 in /opt/conda/lib/python3.7/site-packages (from tensorboard<3,>=2.3.0->tensorflow) (54.1.2)\n",
      "Requirement already satisfied: markdown>=2.6.8 in /opt/conda/lib/python3.7/site-packages (from tensorboard<3,>=2.3.0->tensorflow) (3.3.4)\n",
      "Requirement already satisfied: google-auth<2,>=1.6.3 in /opt/conda/lib/python3.7/site-packages (from tensorboard<3,>=2.3.0->tensorflow) (1.28.0)\n",
      "Requirement already satisfied: urllib3<1.25,>=1.21.1 in /opt/conda/lib/python3.7/site-packages (from requests<3,>=2.21.0->tensorboard<3,>=2.3.0->tensorflow) (1.24.1)\n",
      "Requirement already satisfied: certifi>=2017.4.17 in /opt/conda/lib/python3.7/site-packages (from requests<3,>=2.21.0->tensorboard<3,>=2.3.0->tensorflow) (2019.3.9)\n",
      "Requirement already satisfied: idna<2.9,>=2.5 in /opt/conda/lib/python3.7/site-packages (from requests<3,>=2.21.0->tensorboard<3,>=2.3.0->tensorflow) (2.8)\n",
      "Requirement already satisfied: chardet<3.1.0,>=3.0.2 in /opt/conda/lib/python3.7/site-packages (from requests<3,>=2.21.0->tensorboard<3,>=2.3.0->tensorflow) (3.0.4)\n",
      "Requirement already satisfied: requests-oauthlib>=0.7.0 in /opt/conda/lib/python3.7/site-packages (from google-auth-oauthlib<0.5,>=0.4.1->tensorboard<3,>=2.3.0->tensorflow) (1.3.0)\n",
      "Requirement already satisfied: importlib-metadata; python_version < \"3.8\" in /opt/conda/lib/python3.7/site-packages (from markdown>=2.6.8->tensorboard<3,>=2.3.0->tensorflow) (0.0.0)\n",
      "Requirement already satisfied: rsa<5,>=3.1.4; python_version >= \"3.6\" in /opt/conda/lib/python3.7/site-packages (from google-auth<2,>=1.6.3->tensorboard<3,>=2.3.0->tensorflow) (4.7.2)\n",
      "Requirement already satisfied: cachetools<5.0,>=2.0.0 in /opt/conda/lib/python3.7/site-packages (from google-auth<2,>=1.6.3->tensorboard<3,>=2.3.0->tensorflow) (4.2.1)\n",
      "Requirement already satisfied: pyasn1-modules>=0.2.1 in /opt/conda/lib/python3.7/site-packages (from google-auth<2,>=1.6.3->tensorboard<3,>=2.3.0->tensorflow) (0.2.8)\n",
      "Requirement already satisfied: oauthlib>=3.0.0 in /opt/conda/lib/python3.7/site-packages (from requests-oauthlib>=0.7.0->google-auth-oauthlib<0.5,>=0.4.1->tensorboard<3,>=2.3.0->tensorflow) (3.1.0)\n",
      "Requirement already satisfied: zipp>=0.3.2 in /opt/conda/lib/python3.7/site-packages (from importlib-metadata; python_version < \"3.8\"->markdown>=2.6.8->tensorboard<3,>=2.3.0->tensorflow) (0.3.3)\n",
      "Requirement already satisfied: pyasn1>=0.1.3 in /opt/conda/lib/python3.7/site-packages (from rsa<5,>=3.1.4; python_version >= \"3.6\"->google-auth<2,>=1.6.3->tensorboard<3,>=2.3.0->tensorflow) (0.4.8)\n"
     ]
    }
   ],
   "source": [
    "!pip install keras\n",
    "!pip install tensorflow"
   ]
  },
  {
   "cell_type": "code",
   "execution_count": 1,
   "metadata": {},
   "outputs": [],
   "source": [
    "import os\n",
    "import pickle\n",
    "import sys\n",
    "import warnings\n",
    "from glob import glob\n",
    "\n",
    "import matplotlib\n",
    "import matplotlib.pyplot as plt\n",
    "import numpy as np\n",
    "import pandas as pd\n",
    "import seaborn as sns\n",
    "import shap\n",
    "import  xgboost as xgb\n",
    "from scipy.stats import spearmanr\n",
    "from sklearn.metrics import accuracy_score, mean_squared_error\n",
    "from tqdm.auto import tqdm\n",
    "\n",
    "# Sequentialのインポート\n",
    "from keras.models import Sequential\n",
    "# Dense、LSTMのインポート\n",
    "from keras.layers import Dense, LSTM, Dropout, BatchNormalization, Activation\n",
    "import keras\n",
    "from scipy import stats\n",
    "from keras.layers import LeakyReLU\n",
    "from tensorflow.keras.optimizers import Adam\n",
    "from keras.layers.advanced_activations import PReLU\n",
    "from keras.callbacks import ModelCheckpoint, EarlyStopping, ReduceLROnPlateau\n",
    "\n",
    "# 表示用の設定を変更します\n",
    "%matplotlib inline\n",
    "pd.options.display.max_rows = 100\n",
    "pd.options.display.max_columns = 100\n",
    "pd.options.display.width = 120"
   ]
  },
  {
   "cell_type": "code",
   "execution_count": 2,
   "metadata": {},
   "outputs": [
    {
     "name": "stdout",
     "output_type": "stream",
     "text": [
      "3.7.3 (default, Mar 27 2019, 22:11:17) \n",
      "[GCC 7.3.0]\n"
     ]
    }
   ],
   "source": [
    "# python 3.7.3であることを確認します\n",
    "import sys\n",
    "print(sys.version)"
   ]
  },
  {
   "cell_type": "code",
   "execution_count": 3,
   "metadata": {},
   "outputs": [],
   "source": [
    "# データセット保存先ディレクトリ（\"\"の中身はご自身の環境に合わせて定義してください。）\n",
    "dataset_dir=\"/path/to\""
   ]
  },
  {
   "cell_type": "code",
   "execution_count": null,
   "metadata": {},
   "outputs": [
    {
     "name": "stdout",
     "output_type": "stream",
     "text": [
      "stock_list\n",
      "stock_price\n",
      "stock_fin\n",
      "stock_labels\n"
     ]
    }
   ],
   "source": [
    "# 読み込むファイルを定義します。\n",
    "inputs = {\n",
    "    \"stock_list\": f\"{dataset_dir}/stock_list.csv.gz\",\n",
    "    \"stock_price\": f\"{dataset_dir}/stock_price.csv.gz\",\n",
    "    \"stock_fin\": f\"{dataset_dir}/stock_fin.csv.gz\",\n",
    "    # 本チュートリアルでは使用しないため、コメントアウトしています。\n",
    "    #\"stock_fin_price\": f\"{dataset_dir}/stock_fin_price.csv.gz\",\n",
    "    \"stock_labels\": f\"{dataset_dir}/stock_labels.csv.gz\",\n",
    "}\n",
    "\n",
    "# ファイルを読み込みます\n",
    "dfs = {}\n",
    "for k, v in inputs.items():\n",
    "    print(k)\n",
    "    dfs[k] = pd.read_csv(v)"
   ]
  },
  {
   "cell_type": "markdown",
   "metadata": {},
   "source": [
    "# 特徴量の生成"
   ]
  },
  {
   "cell_type": "code",
   "execution_count": 5,
   "metadata": {},
   "outputs": [],
   "source": [
    "FEATURES = ['MA_gap_2month',\n",
    "            'MA_gap_3month',\n",
    "            'volatility_2month',\n",
    "            'volatility_3month',\n",
    "            'Result_Dividend FiscalYear',\n",
    "            'return_3month',\n",
    "            'Forecast_Dividend FiscalYear',\n",
    "            'volatility_1month',\n",
    "            'Forecast_FinancialStatement FiscalYear',\n",
    "            'MA_gap_1month',\n",
    "            'pbr',\n",
    "            'Result_FinancialStatement FiscalYear',\n",
    "            'return_1month',\n",
    "            'ema_12',\n",
    "            'Result_FinancialStatement TotalAssets',\n",
    "            'signal',\n",
    "            'Previous_FinancialStatement NetIncome',\n",
    "            'per',\n",
    "            'Result_FinancialStatement CashFlowsFromOperatingActivities',\n",
    "            'Result_FinancialStatement CashFlowsFromInvestingActivities',\n",
    "            'ema_10']"
   ]
  },
  {
   "cell_type": "code",
   "execution_count": 6,
   "metadata": {},
   "outputs": [],
   "source": [
    "def get_feature_columns(dfs, train_X, column_group=\"fundamental+technical\"):\n",
    "    # 特徴量グループを定義\n",
    "    # ファンダメンタル\n",
    "    fundamental_cols = dfs[\"stock_fin\"].select_dtypes(\"float64\").columns\n",
    "    fundamental_cols = fundamental_cols[\n",
    "        fundamental_cols != \"Result_Dividend DividendPayableDate\"\n",
    "        ]\n",
    "    fundamental_cols = fundamental_cols[fundamental_cols != \"Local Code\"]\n",
    "    # 価格変化率\n",
    "    returns_cols = [x for x in train_X.columns if \"return\" in x]\n",
    "    # テクニカル\n",
    "    technical_cols = [\n",
    "        x for x in train_X.columns if\n",
    "        (x not in fundamental_cols) and (x != \"code\")\n",
    "    ]\n",
    "    columns = {\n",
    "        \"fundamental_only\": fundamental_cols,\n",
    "        \"return_only\": returns_cols,\n",
    "        \"technical_only\": technical_cols,\n",
    "        \"fundamental+technical\": list(fundamental_cols) + list(\n",
    "            technical_cols),\n",
    "        \"selected_columns\":FEATURES,\n",
    "    }\n",
    "    return columns[column_group]"
   ]
  },
  {
   "cell_type": "code",
   "execution_count": 7,
   "metadata": {},
   "outputs": [],
   "source": [
    "model_path = os.path.join(os.path.dirname(\"__file__\"), \"../model\")\n",
    "test_X_path = os.path.join(os.path.dirname(\"__file__\"), \"../model/proceed_datas/test_X\")\n",
    "test_y_path = os.path.join(os.path.dirname(\"__file__\"), \"../model/proceed_datas/test_y\")\n",
    "val_X_path = os.path.join(os.path.dirname(\"__file__\"), \"../model/proceed_datas/val_X\")\n",
    "val_y_path = os.path.join(os.path.dirname(\"__file__\"), \"../model/proceed_datas/val_y\")\n",
    "train_X_path = os.path.join(os.path.dirname(\"__file__\"), \"../model/proceed_datas/train_X\")\n",
    "train_y_path = os.path.join(os.path.dirname(\"__file__\"), \"../model/proceed_datas/train_y\")"
   ]
  },
  {
   "cell_type": "code",
   "execution_count": 8,
   "metadata": {},
   "outputs": [],
   "source": [
    "# 対象の目的変数を定義\n",
    "labels = {\n",
    "#    \"label_high_5\",\n",
    "#    \"label_high_10\",\n",
    "    \"label_high_20\",\n",
    "#    \"label_low_5\",\n",
    "#    \"label_low_10\",\n",
    "    \"label_low_20\",\n",
    "}"
   ]
  },
  {
   "cell_type": "code",
   "execution_count": 9,
   "metadata": {},
   "outputs": [],
   "source": [
    "# 特徴量追加済みデータ\n",
    "proceed_datas = {\n",
    "    \"train_X\",\n",
    "    \"train_y\",\n",
    "    \"val_X\",\n",
    "    \"val_y\",\n",
    "    \"test_X\",\n",
    "    \"test_y\"\n",
    "}"
   ]
  },
  {
   "cell_type": "code",
   "execution_count": 13,
   "metadata": {},
   "outputs": [],
   "source": [
    "label = 'label_high_20'\n",
    "data_X = os.path.join(train_X_path, f\"train_X_{label}.pkl\")\n",
    "with open(data_X , \"rb\") as f:\n",
    "    train_X = pickle.load(f)\n",
    "data_y = os.path.join(train_y_path, f\"train_y_{label}.pkl\")\n",
    "with open(data_y , \"rb\") as f:\n",
    "    train_y = pickle.load(f)\n",
    "    \n",
    "data_X = os.path.join(test_X_path, f\"test_X_{label}.pkl\")\n",
    "with open(data_X , \"rb\") as f:\n",
    "    test_X = pickle.load(f)\n",
    "data_y = os.path.join(test_y_path, f\"test_y_{label}.pkl\")\n",
    "with open(data_y , \"rb\") as f:\n",
    "    test_y = pickle.load(f)\n",
    "    \n",
    "data_X = os.path.join(val_X_path, f\"val_X_{label}.pkl\")\n",
    "with open(data_X , \"rb\") as f:\n",
    "    val_X = pickle.load(f)\n",
    "data_y = os.path.join(val_y_path, f\"val_y_{label}.pkl\")\n",
    "with open(data_y , \"rb\") as f:\n",
    "    val_y = pickle.load(f)"
   ]
  },
  {
   "cell_type": "code",
   "execution_count": 15,
   "metadata": {},
   "outputs": [],
   "source": [
    "train_X = train_X.drop(columns=[\"code\", \"Result_FinancialStatement FiscalYear\", \"Forecast_FinancialStatement FiscalYear\", \n",
    "\"Result_Dividend FiscalYear\", \"Forecast_Dividend FiscalYear\", \"Section/Products\",\n",
    "\"33 Sector(Code)\", \"17 Sector(Code)\",\"Result_FinancialStatement CashFlowsFromOperatingActivities\",\n",
    "\"Result_FinancialStatement CashFlowsFromFinancingActivities\",\n",
    "\"Result_FinancialStatement CashFlowsFromInvestingActivities\",\n",
    "\"Previous_FinancialStatement CashFlowsFromOperatingActivities\",\n",
    "\"Previous_FinancialStatement CashFlowsFromFinancingActivities\",\n",
    "\"Previous_FinancialStatement CashFlowsFromInvestingActivities\"])\n",
    "test_X = test_X.drop(columns=[\"code\", \"Result_FinancialStatement FiscalYear\", \"Forecast_FinancialStatement FiscalYear\", \n",
    "\"Result_Dividend FiscalYear\", \"Forecast_Dividend FiscalYear\", \"Section/Products\",\n",
    "\"33 Sector(Code)\", \"17 Sector(Code)\",\"Result_FinancialStatement CashFlowsFromOperatingActivities\",\n",
    "\"Result_FinancialStatement CashFlowsFromFinancingActivities\",\n",
    "\"Result_FinancialStatement CashFlowsFromInvestingActivities\",\n",
    "\"Previous_FinancialStatement CashFlowsFromOperatingActivities\",\n",
    "\"Previous_FinancialStatement CashFlowsFromFinancingActivities\",\n",
    "\"Previous_FinancialStatement CashFlowsFromInvestingActivities\"])\n",
    "val_X = val_X.drop(columns=[\"code\", \"Result_FinancialStatement FiscalYear\", \"Forecast_FinancialStatement FiscalYear\", \n",
    "\"Result_Dividend FiscalYear\", \"Forecast_Dividend FiscalYear\", \"Section/Products\",\n",
    "\"33 Sector(Code)\", \"17 Sector(Code)\",\"Result_FinancialStatement CashFlowsFromOperatingActivities\",\n",
    "\"Result_FinancialStatement CashFlowsFromFinancingActivities\",\n",
    "\"Result_FinancialStatement CashFlowsFromInvestingActivities\",\n",
    "\"Previous_FinancialStatement CashFlowsFromOperatingActivities\",\n",
    "\"Previous_FinancialStatement CashFlowsFromFinancingActivities\",\n",
    "\"Previous_FinancialStatement CashFlowsFromInvestingActivities\"])"
   ]
  },
  {
   "cell_type": "code",
   "execution_count": 17,
   "metadata": {
    "scrolled": true
   },
   "outputs": [
    {
     "data": {
      "text/plain": [
       "Index(['return_1month', 'return_2month', 'return_3month', 'volatility_1month', 'volatility_2month',\n",
       "       'volatility_3month', 'MA_gap_1month', 'MA_gap_2month', 'MA_gap_3month', 'EWMA', 'ema_10', 'ema_12', 'ema_26',\n",
       "       'macd', 'signal', 'pbr', 'per', 'Result_FinancialStatement NetSales',\n",
       "       'Result_FinancialStatement OperatingIncome', 'Result_FinancialStatement OrdinaryIncome',\n",
       "       'Result_FinancialStatement NetIncome', 'Result_FinancialStatement TotalAssets',\n",
       "       'Result_FinancialStatement NetAssets', 'Forecast_FinancialStatement NetSales',\n",
       "       'Forecast_FinancialStatement OperatingIncome', 'Forecast_FinancialStatement OrdinaryIncome',\n",
       "       'Forecast_FinancialStatement NetIncome', 'Result_Dividend QuarterlyDividendPerShare',\n",
       "       'Result_Dividend AnnualDividendPerShare', 'Forecast_Dividend QuarterlyDividendPerShare',\n",
       "       'Forecast_Dividend AnnualDividendPerShare', 'IssuedShareEquityQuote IssuedShare',\n",
       "       'Previous_FinancialStatement NetSales', 'Previous_FinancialStatement OperatingIncome',\n",
       "       'Previous_FinancialStatement OrdinaryIncome', 'Previous_FinancialStatement NetIncome',\n",
       "       'Previous_FinancialStatement TotalAssets', 'Previous_FinancialStatement NetAssets', 'operating_profit_margin',\n",
       "       'ordinary_profit_margin', 'net_profit_margin', 'total_asset_turnover', 'net_sales_growth_rate',\n",
       "       'ordinary_income_growth_rate', 'operationg_income_growth_rate', 'total_assets_growth_rate',\n",
       "       'net_assets_growth_rate', 'eps', 'bps', 'roe'],\n",
       "      dtype='object')"
      ]
     },
     "execution_count": 17,
     "metadata": {},
     "output_type": "execute_result"
    }
   ],
   "source": [
    "train_X.columns"
   ]
  },
  {
   "cell_type": "code",
   "execution_count": 18,
   "metadata": {},
   "outputs": [],
   "source": [
    "train_X = stats.zscore(train_X)\n",
    "test_X = stats.zscore(test_X)\n",
    "val_X = stats.zscore(val_X)"
   ]
  },
  {
   "cell_type": "code",
   "execution_count": 19,
   "metadata": {},
   "outputs": [],
   "source": [
    "train_X = train_X.reshape((train_X.shape[0], 1, train_X.shape[1]))"
   ]
  },
  {
   "cell_type": "code",
   "execution_count": 20,
   "metadata": {},
   "outputs": [],
   "source": [
    "test_X = test_X.reshape((test_X.shape[0], 1, test_X.shape[1]))\n",
    "val_X = val_X.reshape((val_X.shape[0], 1, val_X.shape[1]))"
   ]
  },
  {
   "cell_type": "code",
   "execution_count": 21,
   "metadata": {},
   "outputs": [
    {
     "data": {
      "text/plain": [
       "((31752, 1, 50), (31752,), (32515, 1, 50), (32515,), (14585, 1, 50), (14585,))"
      ]
     },
     "execution_count": 21,
     "metadata": {},
     "output_type": "execute_result"
    }
   ],
   "source": [
    "train_X.shape, train_y.shape, test_X.shape, test_y.shape, val_X.shape, val_y.shape"
   ]
  },
  {
   "cell_type": "code",
   "execution_count": 22,
   "metadata": {},
   "outputs": [],
   "source": [
    "# ネットワークの各層のサイズの定義\n",
    "num_l1 = 100\n",
    "num_l2 = 100\n",
    "num_output = 1\n",
    "\n",
    "# 以下、ネットワークを構築\n",
    "model = Sequential()\n",
    "model.add(LSTM(512, input_shape=(train_X.shape[1],train_X.shape[2])))\n",
    "model.add(BatchNormalization())\n",
    "model.add(Dropout(.2))\n",
    "\n",
    "model.add(Dense(256))\n",
    "model.add(PReLU())\n",
    "model.add(BatchNormalization())\n",
    "model.add(Dropout(.1))\n",
    "\n",
    "model.add(Dense(256))\n",
    "model.add(PReLU())\n",
    "model.add(BatchNormalization())\n",
    "model.add(Dropout(.1))\n",
    "\n",
    "model.add(Dense(128))\n",
    "model.add(PReLU())\n",
    "model.add(BatchNormalization())\n",
    "model.add(Dropout(.05))\n",
    "\n",
    "model.add(Dense(64))\n",
    "model.add(PReLU())\n",
    "model.add(BatchNormalization())\n",
    "model.add(Dropout(.05))\n",
    "\n",
    "model.add(Dense(32))\n",
    "model.add(PReLU())\n",
    "model.add(BatchNormalization())\n",
    "model.add(Dropout(.05))\n",
    "\n",
    "model.add(Dense(16))\n",
    "model.add(PReLU())\n",
    "model.add(BatchNormalization())\n",
    "model.add(Dropout(.05))\n",
    "\n",
    "model.add(Dense(1))\n",
    "\n",
    "# 出力層\n",
    "model.add(Dense(num_output))\n",
    "# ネットワークのコンパイル\n",
    "model.compile(loss='mse', optimizer=keras.optimizers.Adam(0.001), metrics=['mse'])"
   ]
  },
  {
   "cell_type": "code",
   "execution_count": 23,
   "metadata": {
    "scrolled": true
   },
   "outputs": [
    {
     "name": "stdout",
     "output_type": "stream",
     "text": [
      "Model: \"sequential\"\n",
      "_________________________________________________________________\n",
      "Layer (type)                 Output Shape              Param #   \n",
      "=================================================================\n",
      "lstm (LSTM)                  (None, 512)               1153024   \n",
      "_________________________________________________________________\n",
      "batch_normalization (BatchNo (None, 512)               2048      \n",
      "_________________________________________________________________\n",
      "dropout (Dropout)            (None, 512)               0         \n",
      "_________________________________________________________________\n",
      "dense (Dense)                (None, 256)               131328    \n",
      "_________________________________________________________________\n",
      "p_re_lu (PReLU)              (None, 256)               256       \n",
      "_________________________________________________________________\n",
      "batch_normalization_1 (Batch (None, 256)               1024      \n",
      "_________________________________________________________________\n",
      "dropout_1 (Dropout)          (None, 256)               0         \n",
      "_________________________________________________________________\n",
      "dense_1 (Dense)              (None, 256)               65792     \n",
      "_________________________________________________________________\n",
      "p_re_lu_1 (PReLU)            (None, 256)               256       \n",
      "_________________________________________________________________\n",
      "batch_normalization_2 (Batch (None, 256)               1024      \n",
      "_________________________________________________________________\n",
      "dropout_2 (Dropout)          (None, 256)               0         \n",
      "_________________________________________________________________\n",
      "dense_2 (Dense)              (None, 128)               32896     \n",
      "_________________________________________________________________\n",
      "p_re_lu_2 (PReLU)            (None, 128)               128       \n",
      "_________________________________________________________________\n",
      "batch_normalization_3 (Batch (None, 128)               512       \n",
      "_________________________________________________________________\n",
      "dropout_3 (Dropout)          (None, 128)               0         \n",
      "_________________________________________________________________\n",
      "dense_3 (Dense)              (None, 64)                8256      \n",
      "_________________________________________________________________\n",
      "p_re_lu_3 (PReLU)            (None, 64)                64        \n",
      "_________________________________________________________________\n",
      "batch_normalization_4 (Batch (None, 64)                256       \n",
      "_________________________________________________________________\n",
      "dropout_4 (Dropout)          (None, 64)                0         \n",
      "_________________________________________________________________\n",
      "dense_4 (Dense)              (None, 32)                2080      \n",
      "_________________________________________________________________\n",
      "p_re_lu_4 (PReLU)            (None, 32)                32        \n",
      "_________________________________________________________________\n",
      "batch_normalization_5 (Batch (None, 32)                128       \n",
      "_________________________________________________________________\n",
      "dropout_5 (Dropout)          (None, 32)                0         \n",
      "_________________________________________________________________\n",
      "dense_5 (Dense)              (None, 16)                528       \n",
      "_________________________________________________________________\n",
      "p_re_lu_5 (PReLU)            (None, 16)                16        \n",
      "_________________________________________________________________\n",
      "batch_normalization_6 (Batch (None, 16)                64        \n",
      "_________________________________________________________________\n",
      "dropout_6 (Dropout)          (None, 16)                0         \n",
      "_________________________________________________________________\n",
      "dense_6 (Dense)              (None, 1)                 17        \n",
      "_________________________________________________________________\n",
      "dense_7 (Dense)              (None, 1)                 2         \n",
      "=================================================================\n",
      "Total params: 1,399,731\n",
      "Trainable params: 1,397,203\n",
      "Non-trainable params: 2,528\n",
      "_________________________________________________________________\n"
     ]
    }
   ],
   "source": [
    "model.summary()"
   ]
  },
  {
   "cell_type": "code",
   "execution_count": 25,
   "metadata": {},
   "outputs": [
    {
     "name": "stdout",
     "output_type": "stream",
     "text": [
      "WARNING:tensorflow:`epsilon` argument is deprecated and will be removed, use `min_delta` instead.\n"
     ]
    }
   ],
   "source": [
    "callbacks = [\n",
    "        EarlyStopping(monitor='val_loss', patience=10, verbose=0),\n",
    "        ReduceLROnPlateau(monitor='val_loss', factor=0.1, patience=7, verbose=1, epsilon=1e-4, mode='min')\n",
    "        ]"
   ]
  },
  {
   "cell_type": "code",
   "execution_count": 26,
   "metadata": {},
   "outputs": [
    {
     "name": "stdout",
     "output_type": "stream",
     "text": [
      "Epoch 1/1000\n",
      "993/993 [==============================] - 13s 13ms/step - loss: 0.1293 - mse: 0.1293 - val_loss: 0.0218 - val_mse: 0.0218\n",
      "Epoch 2/1000\n",
      "993/993 [==============================] - 13s 13ms/step - loss: 0.0419 - mse: 0.0419 - val_loss: 0.0198 - val_mse: 0.0198\n",
      "Epoch 3/1000\n",
      "993/993 [==============================] - 12s 13ms/step - loss: 0.0343 - mse: 0.0343 - val_loss: 0.0193 - val_mse: 0.0193\n",
      "Epoch 4/1000\n",
      "993/993 [==============================] - 12s 12ms/step - loss: 0.0319 - mse: 0.0319 - val_loss: 0.0193 - val_mse: 0.0193\n",
      "Epoch 5/1000\n",
      "993/993 [==============================] - 12s 13ms/step - loss: 0.0309 - mse: 0.0309 - val_loss: 0.0201 - val_mse: 0.0201\n",
      "Epoch 6/1000\n",
      "993/993 [==============================] - 12s 13ms/step - loss: 0.0307 - mse: 0.0307 - val_loss: 0.0212 - val_mse: 0.0212\n",
      "Epoch 7/1000\n",
      "993/993 [==============================] - 12s 12ms/step - loss: 0.0305 - mse: 0.0305 - val_loss: 0.0231 - val_mse: 0.0231\n",
      "Epoch 8/1000\n",
      "993/993 [==============================] - 13s 13ms/step - loss: 0.0304 - mse: 0.0304 - val_loss: 0.0202 - val_mse: 0.0202\n",
      "Epoch 9/1000\n",
      "993/993 [==============================] - 13s 13ms/step - loss: 0.0303 - mse: 0.0303 - val_loss: 0.0198 - val_mse: 0.0198\n",
      "Epoch 10/1000\n",
      "990/993 [============================>.] - ETA: 0s - loss: 0.0303 - mse: 0.0303\n",
      "Epoch 00010: ReduceLROnPlateau reducing learning rate to 0.00010000000474974513.\n",
      "993/993 [==============================] - 13s 13ms/step - loss: 0.0303 - mse: 0.0303 - val_loss: 0.0203 - val_mse: 0.0203\n",
      "Epoch 11/1000\n",
      "993/993 [==============================] - 12s 13ms/step - loss: 0.0299 - mse: 0.0299 - val_loss: 0.0203 - val_mse: 0.0203\n",
      "Epoch 12/1000\n",
      "993/993 [==============================] - 13s 13ms/step - loss: 0.0297 - mse: 0.0297 - val_loss: 0.0213 - val_mse: 0.0213\n",
      "Epoch 13/1000\n",
      "993/993 [==============================] - 13s 13ms/step - loss: 0.0298 - mse: 0.0298 - val_loss: 0.0208 - val_mse: 0.0208\n",
      "Epoch 14/1000\n",
      "993/993 [==============================] - 12s 13ms/step - loss: 0.0297 - mse: 0.0297 - val_loss: 0.0209 - val_mse: 0.0209\n"
     ]
    }
   ],
   "source": [
    "result = model.fit(x=train_X, y=train_y, epochs=1000, validation_data=(val_X, val_y),  callbacks=callbacks)"
   ]
  },
  {
   "cell_type": "code",
   "execution_count": 27,
   "metadata": {},
   "outputs": [
    {
     "data": {
      "image/png": "[encoded data removed]",
      "text/plain": [
       "<Figure size 432x288 with 1 Axes>"
      ]
     },
     "metadata": {
      "needs_background": "light"
     },
     "output_type": "display_data"
    }
   ],
   "source": [
    "# matplotlibのインポート\n",
    "from matplotlib import pyplot as plt\n",
    "\n",
    "# 折れ線グラフによる学習データの損失の描画\n",
    "plt.plot(result.history['loss'])\n",
    "\n",
    "# 折れ線グラフによる検証データの損失の描画\n",
    "plt.plot(result.history['val_loss'])\n",
    "\n",
    "# 凡例の指定\n",
    "plt.legend(['Train', 'Val'])\n",
    "\n",
    "# グラフの軸タイトルの指定\n",
    "plt.xlabel('Epoch')\n",
    "plt.ylabel('Loss')\n",
    "\n",
    "# 描画の実行\n",
    "plt.show()"
   ]
  },
  {
   "cell_type": "code",
   "execution_count": 28,
   "metadata": {},
   "outputs": [
    {
     "data": {
      "image/png": "[encoded data removed]",
      "text/plain": [
       "<Figure size 432x288 with 1 Axes>"
      ]
     },
     "metadata": {
      "needs_background": "light"
     },
     "output_type": "display_data"
    }
   ],
   "source": [
    "# 折れ線グラフによる学習データの損失の描画\n",
    "plt.plot(result.history['mse'])\n",
    "\n",
    "# 折れ線グラフによる検証データの損失の描画\n",
    "plt.plot(result.history['val_mse'])\n",
    "\n",
    "# 凡例の指定\n",
    "plt.legend(['Train', 'Val'])\n",
    "\n",
    "# グラフの軸タイトルの指定\n",
    "plt.xlabel('Epoch')\n",
    "plt.ylabel('mse')\n",
    "\n",
    "# 描画の実行\n",
    "plt.show()"
   ]
  },
  {
   "cell_type": "code",
   "execution_count": 29,
   "metadata": {
    "scrolled": true
   },
   "outputs": [
    {
     "name": "stdout",
     "output_type": "stream",
     "text": [
      "1017/1017 [==============================] - 3s 3ms/step - loss: 0.0259 - mse: 0.0259\n"
     ]
    }
   ],
   "source": [
    "loss, accuracy = model.evaluate(test_X, test_y)"
   ]
  },
  {
   "cell_type": "code",
   "execution_count": 30,
   "metadata": {},
   "outputs": [
    {
     "name": "stdout",
     "output_type": "stream",
     "text": [
      "評価データの正解率: 0.025906533002853394\n"
     ]
    }
   ],
   "source": [
    "# 評価データの正解率の表示\n",
    "print('評価データの正解率:', accuracy)"
   ]
  },
  {
   "cell_type": "code",
   "execution_count": 31,
   "metadata": {},
   "outputs": [
    {
     "data": {
      "text/plain": [
       "0.025906533002853394"
      ]
     },
     "execution_count": 31,
     "metadata": {},
     "output_type": "execute_result"
    }
   ],
   "source": [
    "loss"
   ]
  },
  {
   "cell_type": "code",
   "execution_count": 32,
   "metadata": {},
   "outputs": [],
   "source": [
    "pred = model.predict(test_X)"
   ]
  },
  {
   "cell_type": "code",
   "execution_count": 33,
   "metadata": {},
   "outputs": [
    {
     "data": {
      "text/plain": [
       "datetime\n",
       "2019-02-08    0.07854\n",
       "2019-05-13    0.04379\n",
       "2019-08-02    0.00498\n",
       "2019-11-05    0.00841\n",
       "2020-02-07    0.01212\n",
       "2020-05-12    0.06815\n",
       "2020-08-07    0.02430\n",
       "2020-11-06    0.02804\n",
       "2019-02-05    0.08726\n",
       "2019-05-14    0.02496\n",
       "Name: label_high_20, dtype: float64"
      ]
     },
     "execution_count": 33,
     "metadata": {},
     "output_type": "execute_result"
    }
   ],
   "source": [
    "test_y.head(10)"
   ]
  },
  {
   "cell_type": "code",
   "execution_count": 34,
   "metadata": {},
   "outputs": [
    {
     "data": {
      "text/plain": [
       "0.09551068983545992"
      ]
     },
     "execution_count": 34,
     "metadata": {},
     "output_type": "execute_result"
    }
   ],
   "source": [
    "test_y.mean()"
   ]
  },
  {
   "cell_type": "code",
   "execution_count": 35,
   "metadata": {
    "scrolled": false
   },
   "outputs": [
    {
     "data": {
      "text/plain": [
       "array([[0.05652694],\n",
       "       [0.06468915],\n",
       "       [0.0546772 ],\n",
       "       [0.0525558 ],\n",
       "       [0.04088973],\n",
       "       [0.06259573],\n",
       "       [0.05216067],\n",
       "       [0.05523   ],\n",
       "       [0.07437298],\n",
       "       [0.09687513]], dtype=float32)"
      ]
     },
     "execution_count": 35,
     "metadata": {},
     "output_type": "execute_result"
    }
   ],
   "source": [
    "pred[:10]"
   ]
  },
  {
   "cell_type": "code",
   "execution_count": 36,
   "metadata": {},
   "outputs": [
    {
     "data": {
      "text/plain": [
       "0.09502304"
      ]
     },
     "execution_count": 36,
     "metadata": {},
     "output_type": "execute_result"
    }
   ],
   "source": [
    "np.average(pred)"
   ]
  },
  {
   "cell_type": "code",
   "execution_count": 37,
   "metadata": {},
   "outputs": [
    {
     "data": {
      "text/plain": [
       "0.2596305891398237"
      ]
     },
     "execution_count": 37,
     "metadata": {},
     "output_type": "execute_result"
    }
   ],
   "source": [
    "spearmanr(test_y, pred)[0]"
   ]
  },
  {
   "cell_type": "code",
   "execution_count": null,
   "metadata": {},
   "outputs": [],
   "source": []
  },
  {
   "cell_type": "code",
   "execution_count": null,
   "metadata": {},
   "outputs": [],
   "source": []
  }
 ],
 "metadata": {
  "kernelspec": {
   "display_name": "Python 3",
   "language": "python",
   "name": "python3"
  },
  "language_info": {
   "codemirror_mode": {
    "name": "ipython",
    "version": 3
   },
   "file_extension": ".py",
   "mimetype": "text/x-python",
   "name": "python",
   "nbconvert_exporter": "python",
   "pygments_lexer": "ipython3",
   "version": "3.7.3"
  }
 },
 "nbformat": 4,
 "nbformat_minor": 2
}
