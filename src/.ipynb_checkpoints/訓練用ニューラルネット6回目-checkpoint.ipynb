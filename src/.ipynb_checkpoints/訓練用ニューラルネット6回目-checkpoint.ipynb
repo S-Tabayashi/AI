{
 "cells": [
  {
   "cell_type": "markdown",
   "metadata": {},
   "source": [
    "# Imports & Load Data\n",
    "作業に必要なライブラリをインポートして、 以下のデータを読み込みます。\n",
    "\n",
    "* stock_price : 株価情報\n",
    "* stock_list : 銘柄情報\n",
    "* stock_fin : 財務諸表\n",
    "* stock_labels : 目的変数"
   ]
  },
  {
   "cell_type": "code",
   "execution_count": 1,
   "metadata": {},
   "outputs": [
    {
     "name": "stdout",
     "output_type": "stream",
     "text": [
      "Requirement already satisfied: keras in /opt/conda/lib/python3.7/site-packages (2.4.3)\n",
      "Requirement already satisfied: pyyaml in /opt/conda/lib/python3.7/site-packages (from keras) (5.1)\n",
      "Requirement already satisfied: h5py in /opt/conda/lib/python3.7/site-packages (from keras) (2.10.0)\n",
      "Requirement already satisfied: scipy>=0.14 in /opt/conda/lib/python3.7/site-packages (from keras) (1.4.1)\n",
      "Requirement already satisfied: numpy>=1.9.1 in /opt/conda/lib/python3.7/site-packages (from keras) (1.16.2)\n",
      "Requirement already satisfied: six in /opt/conda/lib/python3.7/site-packages (from h5py->keras) (1.12.0)\n",
      "Requirement already satisfied: tensorflow in /opt/conda/lib/python3.7/site-packages (2.3.0)\n",
      "Requirement already satisfied: scipy==1.4.1 in /opt/conda/lib/python3.7/site-packages (from tensorflow) (1.4.1)\n",
      "Requirement already satisfied: wheel>=0.26 in /opt/conda/lib/python3.7/site-packages (from tensorflow) (0.33.1)\n",
      "Requirement already satisfied: h5py<2.11.0,>=2.10.0 in /opt/conda/lib/python3.7/site-packages (from tensorflow) (2.10.0)\n",
      "Requirement already satisfied: absl-py>=0.7.0 in /opt/conda/lib/python3.7/site-packages (from tensorflow) (0.12.0)\n",
      "Requirement already satisfied: grpcio>=1.8.6 in /opt/conda/lib/python3.7/site-packages (from tensorflow) (1.36.1)\n",
      "Requirement already satisfied: six>=1.12.0 in /opt/conda/lib/python3.7/site-packages (from tensorflow) (1.12.0)\n",
      "Requirement already satisfied: tensorboard<3,>=2.3.0 in /opt/conda/lib/python3.7/site-packages (from tensorflow) (2.4.1)\n",
      "Requirement already satisfied: protobuf>=3.9.2 in /opt/conda/lib/python3.7/site-packages (from tensorflow) (3.15.6)\n",
      "Requirement already satisfied: google-pasta>=0.1.8 in /opt/conda/lib/python3.7/site-packages (from tensorflow) (0.2.0)\n",
      "Requirement already satisfied: gast==0.3.3 in /opt/conda/lib/python3.7/site-packages (from tensorflow) (0.3.3)\n",
      "Requirement already satisfied: opt-einsum>=2.3.2 in /opt/conda/lib/python3.7/site-packages (from tensorflow) (3.3.0)\n",
      "Requirement already satisfied: astunparse==1.6.3 in /opt/conda/lib/python3.7/site-packages (from tensorflow) (1.6.3)\n",
      "Requirement already satisfied: tensorflow-estimator<2.4.0,>=2.3.0 in /opt/conda/lib/python3.7/site-packages (from tensorflow) (2.3.0)\n",
      "Requirement already satisfied: keras-preprocessing<1.2,>=1.1.1 in /opt/conda/lib/python3.7/site-packages (from tensorflow) (1.1.2)\n",
      "Requirement already satisfied: wrapt>=1.11.1 in /opt/conda/lib/python3.7/site-packages (from tensorflow) (1.11.1)\n",
      "Requirement already satisfied: termcolor>=1.1.0 in /opt/conda/lib/python3.7/site-packages (from tensorflow) (1.1.0)\n",
      "Requirement already satisfied: numpy<1.19.0,>=1.16.0 in /opt/conda/lib/python3.7/site-packages (from tensorflow) (1.16.2)\n",
      "Requirement already satisfied: tensorboard-plugin-wit>=1.6.0 in /opt/conda/lib/python3.7/site-packages (from tensorboard<3,>=2.3.0->tensorflow) (1.8.0)\n",
      "Requirement already satisfied: werkzeug>=0.11.15 in /opt/conda/lib/python3.7/site-packages (from tensorboard<3,>=2.3.0->tensorflow) (0.14.1)\n",
      "Requirement already satisfied: requests<3,>=2.21.0 in /opt/conda/lib/python3.7/site-packages (from tensorboard<3,>=2.3.0->tensorflow) (2.21.0)\n",
      "Requirement already satisfied: google-auth-oauthlib<0.5,>=0.4.1 in /opt/conda/lib/python3.7/site-packages (from tensorboard<3,>=2.3.0->tensorflow) (0.4.3)\n",
      "Requirement already satisfied: setuptools>=41.0.0 in /opt/conda/lib/python3.7/site-packages (from tensorboard<3,>=2.3.0->tensorflow) (54.1.2)\n",
      "Requirement already satisfied: markdown>=2.6.8 in /opt/conda/lib/python3.7/site-packages (from tensorboard<3,>=2.3.0->tensorflow) (3.3.4)\n",
      "Requirement already satisfied: google-auth<2,>=1.6.3 in /opt/conda/lib/python3.7/site-packages (from tensorboard<3,>=2.3.0->tensorflow) (1.28.0)\n",
      "Requirement already satisfied: urllib3<1.25,>=1.21.1 in /opt/conda/lib/python3.7/site-packages (from requests<3,>=2.21.0->tensorboard<3,>=2.3.0->tensorflow) (1.24.1)\n",
      "Requirement already satisfied: certifi>=2017.4.17 in /opt/conda/lib/python3.7/site-packages (from requests<3,>=2.21.0->tensorboard<3,>=2.3.0->tensorflow) (2019.3.9)\n",
      "Requirement already satisfied: idna<2.9,>=2.5 in /opt/conda/lib/python3.7/site-packages (from requests<3,>=2.21.0->tensorboard<3,>=2.3.0->tensorflow) (2.8)\n",
      "Requirement already satisfied: chardet<3.1.0,>=3.0.2 in /opt/conda/lib/python3.7/site-packages (from requests<3,>=2.21.0->tensorboard<3,>=2.3.0->tensorflow) (3.0.4)\n",
      "Requirement already satisfied: requests-oauthlib>=0.7.0 in /opt/conda/lib/python3.7/site-packages (from google-auth-oauthlib<0.5,>=0.4.1->tensorboard<3,>=2.3.0->tensorflow) (1.3.0)\n",
      "Requirement already satisfied: importlib-metadata; python_version < \"3.8\" in /opt/conda/lib/python3.7/site-packages (from markdown>=2.6.8->tensorboard<3,>=2.3.0->tensorflow) (0.0.0)\n",
      "Requirement already satisfied: rsa<5,>=3.1.4; python_version >= \"3.6\" in /opt/conda/lib/python3.7/site-packages (from google-auth<2,>=1.6.3->tensorboard<3,>=2.3.0->tensorflow) (4.7.2)\n",
      "Requirement already satisfied: cachetools<5.0,>=2.0.0 in /opt/conda/lib/python3.7/site-packages (from google-auth<2,>=1.6.3->tensorboard<3,>=2.3.0->tensorflow) (4.2.1)\n",
      "Requirement already satisfied: pyasn1-modules>=0.2.1 in /opt/conda/lib/python3.7/site-packages (from google-auth<2,>=1.6.3->tensorboard<3,>=2.3.0->tensorflow) (0.2.8)\n",
      "Requirement already satisfied: oauthlib>=3.0.0 in /opt/conda/lib/python3.7/site-packages (from requests-oauthlib>=0.7.0->google-auth-oauthlib<0.5,>=0.4.1->tensorboard<3,>=2.3.0->tensorflow) (3.1.0)\n",
      "Requirement already satisfied: zipp>=0.3.2 in /opt/conda/lib/python3.7/site-packages (from importlib-metadata; python_version < \"3.8\"->markdown>=2.6.8->tensorboard<3,>=2.3.0->tensorflow) (0.3.3)\n",
      "Requirement already satisfied: pyasn1>=0.1.3 in /opt/conda/lib/python3.7/site-packages (from rsa<5,>=3.1.4; python_version >= \"3.6\"->google-auth<2,>=1.6.3->tensorboard<3,>=2.3.0->tensorflow) (0.4.8)\n"
     ]
    }
   ],
   "source": [
    "!pip install keras\n",
    "!pip install tensorflow"
   ]
  },
  {
   "cell_type": "code",
   "execution_count": 1,
   "metadata": {},
   "outputs": [],
   "source": [
    "import os\n",
    "import pickle\n",
    "import sys\n",
    "import warnings\n",
    "from glob import glob\n",
    "\n",
    "import matplotlib\n",
    "import matplotlib.pyplot as plt\n",
    "import numpy as np\n",
    "import pandas as pd\n",
    "import seaborn as sns\n",
    "import shap\n",
    "import  xgboost as xgb\n",
    "from scipy.stats import spearmanr\n",
    "from sklearn.metrics import accuracy_score, mean_squared_error\n",
    "from tqdm.auto import tqdm\n",
    "\n",
    "# Sequentialのインポート\n",
    "from keras.models import Sequential\n",
    "# Dense、LSTMのインポート\n",
    "from keras.layers import Dense, LSTM, Dropout, BatchNormalization, Activation\n",
    "import keras\n",
    "from scipy import stats\n",
    "from keras.layers import LeakyReLU\n",
    "from tensorflow.keras.optimizers import Adam\n",
    "\n",
    "\n",
    "# 表示用の設定を変更します\n",
    "%matplotlib inline\n",
    "pd.options.display.max_rows = 100\n",
    "pd.options.display.max_columns = 100\n",
    "pd.options.display.width = 120"
   ]
  },
  {
   "cell_type": "code",
   "execution_count": 2,
   "metadata": {},
   "outputs": [
    {
     "name": "stdout",
     "output_type": "stream",
     "text": [
      "3.7.3 (default, Mar 27 2019, 22:11:17) \n",
      "[GCC 7.3.0]\n"
     ]
    }
   ],
   "source": [
    "# python 3.7.3であることを確認します\n",
    "import sys\n",
    "print(sys.version)"
   ]
  },
  {
   "cell_type": "code",
   "execution_count": 3,
   "metadata": {},
   "outputs": [],
   "source": [
    "# データセット保存先ディレクトリ（\"\"の中身はご自身の環境に合わせて定義してください。）\n",
    "dataset_dir=\"/path/to\""
   ]
  },
  {
   "cell_type": "code",
   "execution_count": null,
   "metadata": {},
   "outputs": [
    {
     "name": "stdout",
     "output_type": "stream",
     "text": [
      "stock_list\n",
      "stock_price\n"
     ]
    }
   ],
   "source": [
    "# 読み込むファイルを定義します。\n",
    "inputs = {\n",
    "    \"stock_list\": f\"{dataset_dir}/stock_list.csv.gz\",\n",
    "    \"stock_price\": f\"{dataset_dir}/stock_price.csv.gz\",\n",
    "    \"stock_fin\": f\"{dataset_dir}/stock_fin.csv.gz\",\n",
    "    # 本チュートリアルでは使用しないため、コメントアウトしています。\n",
    "    #\"stock_fin_price\": f\"{dataset_dir}/stock_fin_price.csv.gz\",\n",
    "    \"stock_labels\": f\"{dataset_dir}/stock_labels.csv.gz\",\n",
    "}\n",
    "\n",
    "# ファイルを読み込みます\n",
    "dfs = {}\n",
    "for k, v in inputs.items():\n",
    "    print(k)\n",
    "    dfs[k] = pd.read_csv(v)"
   ]
  },
  {
   "cell_type": "markdown",
   "metadata": {},
   "source": [
    "# 特徴量の生成"
   ]
  },
  {
   "cell_type": "code",
   "execution_count": 6,
   "metadata": {},
   "outputs": [],
   "source": [
    "FEATURES = ['MA_gap_2month',\n",
    "            'MA_gap_3month',\n",
    "            'volatility_2month',\n",
    "            'volatility_3month',\n",
    "            'Result_Dividend FiscalYear',\n",
    "            'return_3month',\n",
    "            'Forecast_Dividend FiscalYear',\n",
    "            'volatility_1month',\n",
    "            'Forecast_FinancialStatement FiscalYear',\n",
    "            'MA_gap_1month',\n",
    "            'pbr',\n",
    "            'Result_FinancialStatement FiscalYear',\n",
    "            'return_1month',\n",
    "            'ema_12',\n",
    "            'Result_FinancialStatement TotalAssets',\n",
    "            'signal',\n",
    "            'Previous_FinancialStatement NetIncome',\n",
    "            'per',\n",
    "            'Result_FinancialStatement CashFlowsFromOperatingActivities',\n",
    "            'Result_FinancialStatement CashFlowsFromInvestingActivities',\n",
    "            'ema_10']"
   ]
  },
  {
   "cell_type": "code",
   "execution_count": 7,
   "metadata": {},
   "outputs": [],
   "source": [
    "def get_feature_columns(dfs, train_X, column_group=\"fundamental+technical\"):\n",
    "    # 特徴量グループを定義\n",
    "    # ファンダメンタル\n",
    "    fundamental_cols = dfs[\"stock_fin\"].select_dtypes(\"float64\").columns\n",
    "    fundamental_cols = fundamental_cols[\n",
    "        fundamental_cols != \"Result_Dividend DividendPayableDate\"\n",
    "        ]\n",
    "    fundamental_cols = fundamental_cols[fundamental_cols != \"Local Code\"]\n",
    "    # 価格変化率\n",
    "    returns_cols = [x for x in train_X.columns if \"return\" in x]\n",
    "    # テクニカル\n",
    "    technical_cols = [\n",
    "        x for x in train_X.columns if\n",
    "        (x not in fundamental_cols) and (x != \"code\")\n",
    "    ]\n",
    "    columns = {\n",
    "        \"fundamental_only\": fundamental_cols,\n",
    "        \"return_only\": returns_cols,\n",
    "        \"technical_only\": technical_cols,\n",
    "        \"fundamental+technical\": list(fundamental_cols) + list(\n",
    "            technical_cols),\n",
    "        \"selected_columns\":FEATURES,\n",
    "    }\n",
    "    return columns[column_group]"
   ]
  },
  {
   "cell_type": "code",
   "execution_count": 8,
   "metadata": {},
   "outputs": [],
   "source": [
    "model_path = os.path.join(os.path.dirname(\"__file__\"), \"../model\")\n",
    "test_X_path = os.path.join(os.path.dirname(\"__file__\"), \"../model/proceed_datas/test_X\")\n",
    "test_y_path = os.path.join(os.path.dirname(\"__file__\"), \"../model/proceed_datas/test_y\")\n",
    "val_X_path = os.path.join(os.path.dirname(\"__file__\"), \"../model/proceed_datas/val_X\")\n",
    "val_y_path = os.path.join(os.path.dirname(\"__file__\"), \"../model/proceed_datas/val_y\")\n",
    "train_X_path = os.path.join(os.path.dirname(\"__file__\"), \"../model/proceed_datas/train_X\")\n",
    "train_y_path = os.path.join(os.path.dirname(\"__file__\"), \"../model/proceed_datas/train_y\")"
   ]
  },
  {
   "cell_type": "code",
   "execution_count": 9,
   "metadata": {},
   "outputs": [],
   "source": [
    "# 対象の目的変数を定義\n",
    "labels = {\n",
    "#    \"label_high_5\",\n",
    "#    \"label_high_10\",\n",
    "    \"label_high_20\",\n",
    "#    \"label_low_5\",\n",
    "#    \"label_low_10\",\n",
    "    \"label_low_20\",\n",
    "}"
   ]
  },
  {
   "cell_type": "code",
   "execution_count": 10,
   "metadata": {},
   "outputs": [],
   "source": [
    "# 特徴量追加済みデータ\n",
    "proceed_datas = {\n",
    "    \"train_X\",\n",
    "    \"train_y\",\n",
    "    \"val_X\",\n",
    "    \"val_y\",\n",
    "    \"test_X\",\n",
    "    \"test_y\"\n",
    "}"
   ]
  },
  {
   "cell_type": "code",
   "execution_count": 11,
   "metadata": {},
   "outputs": [],
   "source": [
    "label = 'label_high_20'\n",
    "data_X = os.path.join(train_X_path, f\"train_X_{label}.pkl\")\n",
    "with open(data_X , \"rb\") as f:\n",
    "    train_X = pickle.load(f)\n",
    "data_y = os.path.join(train_y_path, f\"train_y_{label}.pkl\")\n",
    "with open(data_y , \"rb\") as f:\n",
    "    train_y = pickle.load(f)\n",
    "    \n",
    "data_X = os.path.join(test_X_path, f\"test_X_{label}.pkl\")\n",
    "with open(data_X , \"rb\") as f:\n",
    "    test_X = pickle.load(f)\n",
    "data_y = os.path.join(test_y_path, f\"test_y_{label}.pkl\")\n",
    "with open(data_y , \"rb\") as f:\n",
    "    test_y = pickle.load(f)\n",
    "    \n",
    "data_X = os.path.join(val_X_path, f\"val_X_{label}.pkl\")\n",
    "with open(data_X , \"rb\") as f:\n",
    "    val_X = pickle.load(f)\n",
    "data_y = os.path.join(val_y_path, f\"val_y_{label}.pkl\")\n",
    "with open(data_y , \"rb\") as f:\n",
    "    val_y = pickle.load(f)"
   ]
  },
  {
   "cell_type": "code",
   "execution_count": 12,
   "metadata": {},
   "outputs": [],
   "source": [
    "train_X = train_X.drop(columns=[\"code\"])\n",
    "test_X = test_X.drop(columns=[\"code\"])\n",
    "val_X = val_X.drop(columns=[\"code\"])"
   ]
  },
  {
   "cell_type": "code",
   "execution_count": 13,
   "metadata": {},
   "outputs": [],
   "source": [
    "train_X = stats.zscore(train_X)\n",
    "test_X = stats.zscore(test_X)\n",
    "val_X = stats.zscore(val_X)"
   ]
  },
  {
   "cell_type": "code",
   "execution_count": 14,
   "metadata": {},
   "outputs": [
    {
     "data": {
      "text/plain": [
       "((31752, 63), (31752,), (32515, 63), (32515,), (14585, 63), (14585,))"
      ]
     },
     "execution_count": 14,
     "metadata": {},
     "output_type": "execute_result"
    }
   ],
   "source": [
    "train_X.shape, train_y.shape, test_X.shape, test_y.shape, val_X.shape, val_y.shape"
   ]
  },
  {
   "cell_type": "code",
   "execution_count": 28,
   "metadata": {},
   "outputs": [],
   "source": [
    "# ネットワークの各層のサイズの定義\n",
    "num_l1 = 100\n",
    "num_l2 = 50\n",
    "num_l3 = 25\n",
    "num_output = 1\n",
    "\n",
    "# 以下、ネットワークを構築\n",
    "model = Sequential()\n",
    "# 第1層\n",
    "model.add(Dense(num_l1, input_shape=(train_X.shape[1], ),  kernel_initializer='he_normal'))\n",
    "model.add(LeakyReLU(alpha=0.01))\n",
    "# 第2層\n",
    "model.add(Dense(num_l2, activation='tanh'))\n",
    "model.add(BatchNormalization())\n",
    "# 第3層#\n",
    "model.add(Dense(num_l3, activation='tanh'))\n",
    "model.add(BatchNormalization())\n",
    "# 出力層\n",
    "model.add(Dense(num_output))\n",
    "# ネットワークのコンパイル\n",
    "model.compile(loss='mse', optimizer=keras.optimizers.Adam(0.001), metrics=['mae'])"
   ]
  },
  {
   "cell_type": "code",
   "execution_count": 29,
   "metadata": {
    "scrolled": true
   },
   "outputs": [
    {
     "name": "stdout",
     "output_type": "stream",
     "text": [
      "Model: \"sequential_3\"\n",
      "_________________________________________________________________\n",
      "Layer (type)                 Output Shape              Param #   \n",
      "=================================================================\n",
      "dense_3 (Dense)              (None, 100)               6400      \n",
      "_________________________________________________________________\n",
      "leaky_re_lu (LeakyReLU)      (None, 100)               0         \n",
      "_________________________________________________________________\n",
      "dense_4 (Dense)              (None, 50)                5050      \n",
      "_________________________________________________________________\n",
      "batch_normalization (BatchNo (None, 50)                200       \n",
      "_________________________________________________________________\n",
      "dense_5 (Dense)              (None, 25)                1275      \n",
      "_________________________________________________________________\n",
      "batch_normalization_1 (Batch (None, 25)                100       \n",
      "_________________________________________________________________\n",
      "dense_6 (Dense)              (None, 1)                 26        \n",
      "=================================================================\n",
      "Total params: 13,051\n",
      "Trainable params: 12,901\n",
      "Non-trainable params: 150\n",
      "_________________________________________________________________\n"
     ]
    }
   ],
   "source": [
    "model.summary()"
   ]
  },
  {
   "cell_type": "code",
   "execution_count": 32,
   "metadata": {},
   "outputs": [],
   "source": [
    "early_stop = keras.callbacks.EarlyStopping(monitor='val_loss', patience=10)"
   ]
  },
  {
   "cell_type": "code",
   "execution_count": 34,
   "metadata": {},
   "outputs": [
    {
     "name": "stdout",
     "output_type": "stream",
     "text": [
      "Epoch 1/1000\n",
      "993/993 [==============================] - 2s 2ms/step - loss: 0.0105 - mae: 0.0711 - val_loss: 0.0399 - val_mae: 0.1163\n",
      "Epoch 2/1000\n",
      "993/993 [==============================] - 2s 2ms/step - loss: 0.0103 - mae: 0.0711 - val_loss: 0.0426 - val_mae: 0.1120\n",
      "Epoch 3/1000\n",
      "993/993 [==============================] - 2s 2ms/step - loss: 0.0105 - mae: 0.0712 - val_loss: 0.0345 - val_mae: 0.1091\n",
      "Epoch 4/1000\n",
      "993/993 [==============================] - 2s 2ms/step - loss: 0.0101 - mae: 0.0706 - val_loss: 0.0342 - val_mae: 0.1090\n",
      "Epoch 5/1000\n",
      "993/993 [==============================] - 2s 2ms/step - loss: 0.0104 - mae: 0.0714 - val_loss: 0.0368 - val_mae: 0.1130\n",
      "Epoch 6/1000\n",
      "993/993 [==============================] - 2s 2ms/step - loss: 0.0104 - mae: 0.0711 - val_loss: 0.0557 - val_mae: 0.1167\n",
      "Epoch 7/1000\n",
      "993/993 [==============================] - 2s 2ms/step - loss: 0.0104 - mae: 0.0711 - val_loss: 0.0350 - val_mae: 0.1085\n",
      "Epoch 8/1000\n",
      "993/993 [==============================] - 2s 2ms/step - loss: 0.0104 - mae: 0.0711 - val_loss: 0.0408 - val_mae: 0.1173\n",
      "Epoch 9/1000\n",
      "993/993 [==============================] - 2s 2ms/step - loss: 0.0103 - mae: 0.0706 - val_loss: 0.0448 - val_mae: 0.1094\n",
      "Epoch 10/1000\n",
      "993/993 [==============================] - 2s 2ms/step - loss: 0.0104 - mae: 0.0709 - val_loss: 0.0353 - val_mae: 0.1080\n",
      "Epoch 11/1000\n",
      "993/993 [==============================] - 2s 2ms/step - loss: 0.0102 - mae: 0.0710 - val_loss: 0.0368 - val_mae: 0.1091\n",
      "Epoch 12/1000\n",
      "993/993 [==============================] - 2s 2ms/step - loss: 0.0100 - mae: 0.0702 - val_loss: 0.0345 - val_mae: 0.1109\n",
      "Epoch 13/1000\n",
      "993/993 [==============================] - 2s 2ms/step - loss: 0.0099 - mae: 0.0704 - val_loss: 0.0412 - val_mae: 0.1101\n",
      "Epoch 14/1000\n",
      "993/993 [==============================] - 2s 2ms/step - loss: 0.0102 - mae: 0.0705 - val_loss: 0.0376 - val_mae: 0.1120\n"
     ]
    }
   ],
   "source": [
    "result = model.fit(x=train_X, y=train_y, epochs=1000, validation_data=(val_X, val_y),  callbacks=[early_stop])"
   ]
  },
  {
   "cell_type": "code",
   "execution_count": 35,
   "metadata": {},
   "outputs": [
    {
     "data": {
      "image/png": "[encoded data removed]",
      "text/plain": [
       "<Figure size 432x288 with 1 Axes>"
      ]
     },
     "metadata": {
      "needs_background": "light"
     },
     "output_type": "display_data"
    }
   ],
   "source": [
    "# matplotlibのインポート\n",
    "from matplotlib import pyplot as plt\n",
    "\n",
    "# 折れ線グラフによる学習データの損失の描画\n",
    "plt.plot(result.history['loss'])\n",
    "\n",
    "# 折れ線グラフによる検証データの損失の描画\n",
    "plt.plot(result.history['val_loss'])\n",
    "\n",
    "# 凡例の指定\n",
    "plt.legend(['Train', 'Val'])\n",
    "\n",
    "# グラフの軸タイトルの指定\n",
    "plt.xlabel('Epoch')\n",
    "plt.ylabel('Loss')\n",
    "\n",
    "# 描画の実行\n",
    "plt.show()"
   ]
  },
  {
   "cell_type": "code",
   "execution_count": 36,
   "metadata": {},
   "outputs": [
    {
     "name": "stdout",
     "output_type": "stream",
     "text": [
      "1017/1017 [==============================] - 1s 948us/step - loss: 0.0796 - mae: 0.1671\n"
     ]
    }
   ],
   "source": [
    "loss, accuracy = model.evaluate(test_X, test_y)"
   ]
  },
  {
   "cell_type": "code",
   "execution_count": 37,
   "metadata": {},
   "outputs": [
    {
     "name": "stdout",
     "output_type": "stream",
     "text": [
      "評価データの正解率: 0.16712124645709991\n"
     ]
    }
   ],
   "source": [
    "# 評価データの正解率の表示\n",
    "print('評価データの正解率:', accuracy)"
   ]
  },
  {
   "cell_type": "code",
   "execution_count": 38,
   "metadata": {},
   "outputs": [
    {
     "data": {
      "text/plain": [
       "0.07961826771497726"
      ]
     },
     "execution_count": 38,
     "metadata": {},
     "output_type": "execute_result"
    }
   ],
   "source": [
    "loss"
   ]
  },
  {
   "cell_type": "code",
   "execution_count": 39,
   "metadata": {},
   "outputs": [],
   "source": [
    "pred = model.predict(test_X)"
   ]
  },
  {
   "cell_type": "code",
   "execution_count": 40,
   "metadata": {},
   "outputs": [
    {
     "data": {
      "text/plain": [
       "datetime\n",
       "2019-02-08    0.07854\n",
       "2019-05-13    0.04379\n",
       "2019-08-02    0.00498\n",
       "2019-11-05    0.00841\n",
       "2020-02-07    0.01212\n",
       "2020-05-12    0.06815\n",
       "2020-08-07    0.02430\n",
       "2020-11-06    0.02804\n",
       "2019-02-05    0.08726\n",
       "2019-05-14    0.02496\n",
       "Name: label_high_20, dtype: float64"
      ]
     },
     "execution_count": 40,
     "metadata": {},
     "output_type": "execute_result"
    }
   ],
   "source": [
    "test_y.head(10)"
   ]
  },
  {
   "cell_type": "code",
   "execution_count": 41,
   "metadata": {},
   "outputs": [
    {
     "data": {
      "text/plain": [
       "0.09551068983545992"
      ]
     },
     "execution_count": 41,
     "metadata": {},
     "output_type": "execute_result"
    }
   ],
   "source": [
    "test_y.mean()"
   ]
  },
  {
   "cell_type": "code",
   "execution_count": 42,
   "metadata": {
    "scrolled": false
   },
   "outputs": [
    {
     "data": {
      "text/plain": [
       "array([[0.11842464],\n",
       "       [0.01530911],\n",
       "       [0.08376563],\n",
       "       [0.09058324],\n",
       "       [0.10570011],\n",
       "       [0.09116419],\n",
       "       [0.07101342],\n",
       "       [0.05505689],\n",
       "       [0.04002584],\n",
       "       [0.07857394]], dtype=float32)"
      ]
     },
     "execution_count": 42,
     "metadata": {},
     "output_type": "execute_result"
    }
   ],
   "source": [
    "pred[:10]"
   ]
  },
  {
   "cell_type": "code",
   "execution_count": 43,
   "metadata": {},
   "outputs": [
    {
     "data": {
      "text/plain": [
       "0.18020397"
      ]
     },
     "execution_count": 43,
     "metadata": {},
     "output_type": "execute_result"
    }
   ],
   "source": [
    "np.average(pred)"
   ]
  },
  {
   "cell_type": "code",
   "execution_count": 44,
   "metadata": {},
   "outputs": [
    {
     "data": {
      "text/plain": [
       "0.08024041329662786"
      ]
     },
     "execution_count": 44,
     "metadata": {},
     "output_type": "execute_result"
    }
   ],
   "source": [
    "spearmanr(test_y, pred)[0]"
   ]
  },
  {
   "cell_type": "code",
   "execution_count": null,
   "metadata": {},
   "outputs": [],
   "source": []
  },
  {
   "cell_type": "code",
   "execution_count": null,
   "metadata": {},
   "outputs": [],
   "source": []
  }
 ],
 "metadata": {
  "kernelspec": {
   "display_name": "Python 3",
   "language": "python",
   "name": "python3"
  },
  "language_info": {
   "codemirror_mode": {
    "name": "ipython",
    "version": 3
   },
   "file_extension": ".py",
   "mimetype": "text/x-python",
   "name": "python",
   "nbconvert_exporter": "python",
   "pygments_lexer": "ipython3",
   "version": "3.7.3"
  }
 },
 "nbformat": 4,
 "nbformat_minor": 2
}
